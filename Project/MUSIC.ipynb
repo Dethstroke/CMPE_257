{
 "cells": [
  {
   "cell_type": "code",
   "execution_count": 1,
   "metadata": {},
   "outputs": [
    {
     "name": "stdout",
     "output_type": "stream",
     "text": [
      "1\n",
      "bowser/solfeggietto.mid\n",
      "['E-3', 'C3', 'E-3', 'G3', 'C4', 'E-4', 'D4', 'C4', 'B3', 'G3', 'B3', 'D4', 'G4', 'F4', 'E-4', 'D4', 'E-4', 'C4', 'E-4', 'G4', 'C5', 'E-5', 'D5', 'C5', 'D5', 'C5', 'B4', 'A4', 'G4', 'F4', 'E-4', 'D4', 'E-4', 'C4', 'E-4', 'G4', 'C5', 'E-5', 'D5', 'C5', 'B4', 'G4', 'B4', 'D5', 'G5', 'F5', 'E-5', 'D5', 'E-5', 'C5', 'E-5', 'G5', 'C6', 'E-6', 'D6', 'C6', 'D6', 'C6', 'B5', 'A5', 'G5', 'F5', 'E-5', 'D5', 'E-5', 'C5', 'G4', 'E-4', 'C4', 'C6', 'G5', 'E-5', 'G#5', 'F3', 'G#3', 'C4', 'F4', 'G#4', 'C5', 'E-5', 'D5', 'B-4', 'F4', 'D4', 'B-3', 'B-5', 'F5', 'D5', 'G5', 'E-3', 'G3', 'B-3', 'D4', 'G4', 'B-4', 'D5', 'C5', 'A4', 'G#4', 'A4', 'C5', 'A4', 'G#4', 'A4', 'E-5', 'C5', 'G4', 'A4', 'E-5', 'C5', 'G4', 'A4', 'D5', 'C5', 'F#4', 'A4', 'A5', 'C5', 'F#4', 'A4', 'F#5', 'C5', 'D4', 'A4', 'C5', 'A4', 'F#4', 'C4', 'G4', 'G2', 'B-2', 'D3', 'G3', 'B-3', 'A3', 'G3', 'F#3', 'D3', 'F#3', 'A3', 'D4', 'C4', 'B-3', 'A3', 'B-3', 'G3', 'B-3', 'D4', 'G4', 'B-4', 'A4', 'G4', 'A4', 'G4', 'F#4', 'E4', 'D4', 'C4', 'B-3', 'A3', 'B-3', 'G3', 'B-3', 'D4', 'G4', 'B-4', 'A4', 'G4', 'F#4', 'D4', 'F#4', 'A4', 'D5', 'C5', 'B-4', 'A4', 'B-4', 'G4', 'B-4', 'D5', 'G5', 'B-5', 'A5', 'G5', 'A5', 'G5', 'F#5', 'E5', 'D5', 'C5', 'B-4', 'A4', 'B-4', '7', 'G4', 'B-4', 'D5', 'G5', 'D5', 'B-4', 'G4', '5', 'G5', 'D5', 'B4', 'G4', 'B4', 'D5', 'G5', '0.3', 'G4', 'G5', 'G4', '0.3', 'G4', 'G5', 'G4', '11.2', 'G4', 'F5', 'G4', '11.2', 'G4', 'F5', 'G4', '0', 'E-5', 'C5', 'E-5', 'G5', 'C6', 'G5', 'E5', 'C5', '10', 'C6', 'G5', 'E5', 'C5', 'E5', 'G5', 'C6', '5.8', 'C5', 'C6', 'C5', '5.8', 'C5', 'C6', 'C5', '4.7', 'C5', 'B-5', 'C5', '4.7', 'C5', 'B-5', 'C5', 'G#5', 'F2', 'G#2', 'C3', 'F3', 'G#3', 'G3', 'F3', 'E3', 'C3', 'E3', 'G3', 'C4', 'B-3', 'G#3', 'G3', 'G#3', 'F3', 'G#3', 'C4', 'F4', 'G#4', 'G4', 'F4', 'G4', 'F4', 'E4', 'D4', 'C4', 'B-3', 'G#3', 'G3', 'G#3', 'F3', 'G#3', 'C4', 'F4', 'G#4', 'G4', 'F4', 'E4', 'C4', 'E4', 'G4', 'C5', 'B-4', 'G#4', 'G4', 'G#4', 'F4', 'G#4', 'C5', 'F5', 'G#5', 'G5', 'F5', 'G5', 'F5', 'E5', 'D5', 'C5', 'B-4', 'G#4', 'G4', 'G#4', 'F5', 'C5', 'G#4', 'F4', 'C5', 'G#4', 'F4', 'C4', 'G#4', 'F4', 'C4', 'G#3', 'F4', 'C4', 'G#3', '1', 'G#5', 'F5', 'E5', 'F5', 'G5', 'F5', 'E5', 'F5', '0', 'G#4', 'F4', 'E4', 'F4', 'G4', 'F4', 'E4', 'F4', '11', 'D6', 'F5', 'G5', 'G#5', 'G5', 'F5', 'E-5', 'D5', '0', 'E-5', 'G5', 'C6', 'G5', 'F3', 'B-5', 'G#5', 'G5', 'F5', '3.7', 'G2', 'E-5', 'D5', 'E-5', 'D5', 'E-5', 'D5', 'C5', 'D5', '0.3', 'G4', 'G5', 'G4', '0.3', 'G4', 'G5', 'G4', '11.2', 'G4', 'F5', 'G4', '11.2', 'G4', 'F5', 'G4', '10.0', 'G4', 'E5', 'G4', '10.0', 'G4', 'E5', 'G4', '5.9', 'E-5', 'C6', 'E-5', '5.9', 'E-5', 'C6', 'E-5', '8.10', 'F4', 'D5', 'F4', '8.10', 'F4', 'D5', 'F4', '3.7', 'C#5', 'G#5', 'C#5', '3.7', 'C#5', 'G#5', 'C#5', '6.8', 'E-4', 'C5', 'E-4', '6.8', 'E-4', 'C5', 'E-4', '3.6', 'C5', 'C6', 'C5', '3.6', 'C5', 'C6', 'C5', '3.7', 'C5', 'E-5', 'G5', 'C6', 'G5', 'E-5', 'C5', 'G5', 'E-5', 'C5', 'G4', '7', 'F5', 'D5', 'B4', 'F4', 'E-4', 'C3', 'E-3', 'G3', 'C4', 'E-4', 'D4', 'C4', 'B3', 'G3', 'B3', 'D4', 'G4', 'F4', 'E-4', 'D4', 'E-4', 'C4', 'E-4', 'G4', 'C5', 'E-5', 'D5', 'C5', 'D5', 'C5', 'B4', 'A4', 'G4', 'F4', 'E-4', 'D4', 'E-4', 'C4', 'E-4', 'G4', 'C5', 'E-5', 'D5', 'C5', 'B4', 'G4', 'B4', 'D5', 'G5', 'F5', 'E-5', 'D5', 'E-5', 'C5', 'E-5', 'G5', 'C6', 'E-6', 'D6', 'B5', 'C6', 'G5', 'E-5', 'D5', 'C5', 'G4', 'E-4', 'D4', 'C4']\n"
     ]
    }
   ],
   "source": [
    "from music21 import converter\n",
    "from music21 import instrument\n",
    "from music21 import chord\n",
    "from music21 import note\n",
    "\n",
    "import glob\n",
    "\n",
    "def get_notes(glob_path):\n",
    "    notes = []\n",
    "    \n",
    "    print(len(glob.glob(glob_path)))\n",
    "    for input_file in glob.glob(glob_path):\n",
    "        print(input_file)\n",
    "        midi = converter.parse(input_file)\n",
    "\n",
    "        parts = instrument.partitionByInstrument(midi)\n",
    "        if parts:\n",
    "            notes_to_parse = parts.parts[0].recurse()\n",
    "        else:\n",
    "            notes_to_parse = midi.flat.notes\n",
    "\n",
    "        for element in notes_to_parse:\n",
    "            if isinstance(element, note.Note):\n",
    "                notes.append(str(element.pitch))\n",
    "            elif isinstance(element, chord.Chord):\n",
    "                notes.append('.'.join(str(n) for n in element.normalOrder))\n",
    "\n",
    "    return notes\n",
    "\n",
    "\n",
    "\n",
    "\n",
    "notes = get_notes('bowser/*.mid')\n",
    "print(notes)\n",
    "            \n",
    "# get amount of pitch names\n",
    "n_vocab = len(set(notes))"
   ]
  },
  {
   "cell_type": "code",
   "execution_count": 2,
   "metadata": {},
   "outputs": [
    {
     "name": "stderr",
     "output_type": "stream",
     "text": [
      "/usr/local/lib/python3.5/dist-packages/h5py/__init__.py:36: FutureWarning: Conversion of the second argument of issubdtype from `float` to `np.floating` is deprecated. In future, it will be treated as `np.float64 == np.dtype(float).type`.\n",
      "  from ._conv import register_converters as _register_converters\n",
      "Using TensorFlow backend.\n"
     ]
    }
   ],
   "source": [
    "import numpy\n",
    "from keras.utils import np_utils\n",
    "\n",
    "def prepare_sequences(notes, n_vocab):\n",
    "    \"\"\" Prepare the sequences used by the Neural Network \"\"\"\n",
    "    sequence_length = 100\n",
    "\n",
    "    # get all pitch names\n",
    "    pitchnames = sorted(set(item for item in notes))\n",
    "\n",
    "     # create a dictionary to map pitches to integers\n",
    "    note_to_int = dict((note, number) for number, note in enumerate(pitchnames))\n",
    "\n",
    "    network_input = []\n",
    "    network_output = []\n",
    "\n",
    "    # create input sequences and the corresponding outputs\n",
    "    for i in range(0, len(notes) - sequence_length, 1):\n",
    "        sequence_in = notes[i:i + sequence_length]\n",
    "        sequence_out = notes[i + sequence_length]\n",
    "        network_input.append([note_to_int[char] for char in sequence_in])\n",
    "        network_output.append(note_to_int[sequence_out])\n",
    "\n",
    "    n_patterns = len(network_input)\n",
    "\n",
    "    # reshape the input into a format compatible with LSTM layers\n",
    "    network_input = numpy.reshape(network_input, (n_patterns, sequence_length, 1))\n",
    "    # normalize input\n",
    "    network_input = network_input / float(n_vocab)\n",
    "\n",
    "    network_output = np_utils.to_categorical(network_output)\n",
    "\n",
    "    return (network_input, network_output)\n",
    "\n",
    "\n",
    "\n",
    "network_input, network_output = prepare_sequences(notes, n_vocab)"
   ]
  },
  {
   "cell_type": "code",
   "execution_count": 3,
   "metadata": {},
   "outputs": [],
   "source": [
    "from keras.models import Sequential\n",
    "from keras.layers import Dense\n",
    "from keras.layers import Dropout\n",
    "from keras.layers import LSTM\n",
    "from keras.layers import Activation\n",
    "\n",
    "def create_network(network_input, n_vocab):\n",
    "    \"\"\" create the structure of the neural network \"\"\"\n",
    "    model = Sequential()\n",
    "    model.add(LSTM(\n",
    "        128,\n",
    "        input_shape=(network_input.shape[1], network_input.shape[2]),\n",
    "        return_sequences=True\n",
    "    ))\n",
    "    model.add(Dropout(0.3))\n",
    "    model.add(LSTM(128, return_sequences=True))\n",
    "    model.add(Dropout(0.3))\n",
    "    model.add(LSTM(128))\n",
    "    model.add(Dense(64))\n",
    "    model.add(Dropout(0.3))\n",
    "    model.add(Dense(n_vocab))\n",
    "    model.add(Activation('softmax'))\n",
    "    model.compile(loss='categorical_crossentropy', optimizer='rmsprop')\n",
    "\n",
    "    return model\n",
    "\n",
    "\n",
    "\n",
    "model = create_network(network_input, n_vocab)"
   ]
  },
  {
   "cell_type": "code",
   "execution_count": 4,
   "metadata": {},
   "outputs": [
    {
     "name": "stdout",
     "output_type": "stream",
     "text": [
      "Epoch 1/1\n",
      "431/431 [==============================] - 31s 71ms/step - loss: 3.8202\n",
      "[[0. 0. 0. ... 0. 0. 0.]\n",
      " [0. 0. 0. ... 0. 0. 0.]\n",
      " [0. 0. 0. ... 0. 0. 0.]\n",
      " ...\n",
      " [0. 0. 0. ... 0. 0. 0.]\n",
      " [0. 0. 0. ... 0. 0. 0.]\n",
      " [0. 0. 0. ... 0. 0. 0.]]\n"
     ]
    }
   ],
   "source": [
    "from keras.callbacks import ModelCheckpoint\n",
    "import h5py\n",
    "\n",
    "def train(model, network_input, network_output):\n",
    "    \"\"\" train the neural network \"\"\"\n",
    "    filepath = \"weights-improvement-{epoch:02d}-{loss:.4f}-bigger.hdf5\"\n",
    "    checkpoint = ModelCheckpoint(\n",
    "        filepath,\n",
    "        monitor='loss',\n",
    "        verbose=0,\n",
    "        save_best_only=True,\n",
    "        mode='min'\n",
    "    )\n",
    "    callbacks_list = [checkpoint]\n",
    "\n",
    "    model.fit(network_input, network_output, epochs=1, batch_size=6, callbacks=callbacks_list)\n",
    "\n",
    "\n",
    "    \n",
    "train(model, network_input, network_output)\n",
    "print (network_output)"
   ]
  },
  {
   "cell_type": "code",
   "execution_count": 5,
   "metadata": {},
   "outputs": [
    {
     "name": "stdout",
     "output_type": "stream",
     "text": [
      "['1.2.6.8', '1.2.6.8', '1.2.6.8', '1.2.6.8', '1.2.6.8', '1.2.6.8', '1.2.6.8', '1.2.6.8', '1.2.6.8', '1.2.6.8', '1.2.6.8', '1.2.6.8', '1.2.6.8', '1.2.6.8', '1.2.6.8', '1.2.6.8', '1.2.6.8', '1.2.6.8', '1.2.6.8', '1.2.6.8', '1.2.6.8', '1.2.6.8', '1.2.6.8', '1.2.6.8', '1.2.6.8', '1.2.6.8', '1.2.6.8', '1.2.6.8', '1.2.6.8', '1.2.6.8', '1.2.6.8', '1.2.6.8', '1.2.6.8', '1.2.6.8', '1.2.6.8', '1.2.6.8', '1.2.6.8', '1.2.6.8', '1.2.6.8', '1.2.6.8', '1.2.6.8', '1.2.6.8', '1.2.6.8', '1.2.6.8', '1.2.6.8', '1.2.6.8', '1.2.6.8', '1.2.6.8', '1.2.6.8', '1.2.6.8', '1.2.6.8', '1.2.6.8', '1.2.6.8', '1.2.6.8', '1.2.6.8', '1.2.6.8', '1.2.6.8', '1.2.6.8', '1.2.6.8', '1.2.6.8', '1.2.6.8', '1.2.6.8', '1.2.6.8', '1.2.6.8', '1.2.6.8', '1.2.6.8', '1.2.6.8', '1.2.6.8', '1.2.6.8', '1.2.6.8', '1.2.6.8', '1.2.6.8', '1.2.6.8', '1.2.6.8', '1.2.6.8', '1.2.6.8', '1.2.6.8', '1.2.6.8', '1.2.6.8', '1.2.6.8', '1.2.6.8', '1.2.6.8', '1.2.6.8', '1.2.6.8', '1.2.6.8', '1.2.6.8', '1.2.6.8', '1.2.6.8', '1.2.6.8', '1.2.6.8', '1.2.6.8', '1.2.6.8', '1.2.6.8', '1.2.6.8', '1.2.6.8', '1.2.6.8', '1.2.6.8', '1.2.6.8', '1.2.6.8', '1.2.6.8', '1.2.6.8', '1.2.6.8', '1.2.6.8', '1.2.6.8', '1.2.6.8', '1.2.6.8', '1.2.6.8', '1.2.6.8', '1.2.6.8', '1.2.6.8', '1.2.6.8', '1.2.6.8', '1.2.6.8', '1.2.6.8', '1.2.6.8', '1.2.6.8', '1.2.6.8', '1.2.6.8', '1.2.6.8', '1.2.6.8', '1.2.6.8', '1.2.6.8', '1.2.6.8', '1.2.6.8', '1.2.6.8', '1.2.6.8', '1.2.6.8', '1.2.6.8', '1.2.6.8', '1.2.6.8', '1.2.6.8', '1.2.6.8', '1.2.6.8', '1.2.6.8', '1.2.6.8', '1.2.6.8', '1.2.6.8', '1.2.6.8', '1.2.6.8', '1.2.6.8', '1.2.6.8', '1.2.6.8', '1.2.6.8', '1.2.6.8', '1.2.6.8', '1.2.6.8', '1.2.6.8', '1.2.6.8', '1.2.6.8', '1.2.6.8', '1.2.6.8', '1.2.6.8', '1.2.6.8', '1.2.6.8', '1.2.6.8', '1.2.6.8', '1.2.6.8', '1.2.6.8', '1.2.6.8', '1.2.6.8', '1.2.6.8', '1.2.6.8', '1.2.6.8', '1.2.6.8', '1.2.6.8', '1.2.6.8', '1.2.6.8', '1.2.6.8', '1.2.6.8', '1.2.6.8', '1.2.6.8', '1.2.6.8', '1.2.6.8', '1.2.6.8', '1.2.6.8', '1.2.6.8', '1.2.6.8', '1.2.6.8', '1.2.6.8', '1.2.6.8', '1.2.6.8', '1.2.6.8', '1.2.6.8', '1.2.6.8', '1.2.6.8', '1.2.6.8', '1.2.6.8', '1.2.6.8', '1.2.6.8', '1.2.6.8', '1.2.6.8', '1.2.6.8', '1.2.6.8', '1.2.6.8', '1.2.6.8', '1.2.6.8', '1.2.6.8', '1.2.6.8', '1.2.6.8', '1.2.6.8', '1.2.6.8', '1.2.6.8', '1.2.6.8', '1.2.6.8', '1.2.6.8', '1.2.6.8', '1.2.6.8', '1.2.6.8', '1.2.6.8', '1.2.6.8', '1.2.6.8', '1.2.6.8', '1.2.6.8', '1.2.6.8', '1.2.6.8', '1.2.6.8', '1.2.6.8', '1.2.6.8', '1.2.6.8', '1.2.6.8', '1.2.6.8', '1.2.6.8', '1.2.6.8', '1.2.6.8', '1.2.6.8', '1.2.6.8', '1.2.6.8', '1.2.6.8', '1.2.6.8', '1.2.6.8', '1.2.6.8', '1.2.6.8', '1.2.6.8', '1.2.6.8', '1.2.6.8', '1.2.6.8', '1.2.6.8', '1.2.6.8', '1.2.6.8', '1.2.6.8', '1.2.6.8', '1.2.6.8', '1.2.6.8', '1.2.6.8', '1.2.6.8', '1.2.6.8', '1.2.6.8', '1.2.6.8', '1.2.6.8', '1.2.6.8', '1.2.6.8', '1.2.6.8', '1.2.6.8', '1.2.6.8', '1.2.6.8', '1.2.6.8', '1.2.6.8', '1.2.6.8', '1.2.6.8', '1.2.6.8', '1.2.6.8', '1.2.6.8', '1.2.6.8', '1.2.6.8', '1.2.6.8', '1.2.6.8', '1.2.6.8', '1.2.6.8', '1.2.6.8', '1.2.6.8', '1.2.6.8', '1.2.6.8', '1.2.6.8', '1.2.6.8', '1.2.6.8', '1.2.6.8', '1.2.6.8', '1.2.6.8', '1.2.6.8', '1.2.6.8', '1.2.6.8', '1.2.6.8', '1.2.6.8', '1.2.6.8', '1.2.6.8', '1.2.6.8', '1.2.6.8', '1.2.6.8', '1.2.6.8', '1.2.6.8', '1.2.6.8', '1.2.6.8', '1.2.6.8', '1.2.6.8', '1.2.6.8', '1.2.6.8', '1.2.6.8', '1.2.6.8', '1.2.6.8', '1.2.6.8', '1.2.6.8', '1.2.6.8', '1.2.6.8', '1.2.6.8', '1.2.6.8', '1.2.6.8', '1.2.6.8', '1.2.6.8', '1.2.6.8', '1.2.6.8', '1.2.6.8', '1.2.6.8', '1.2.6.8', '1.2.6.8', '1.2.6.8', '1.2.6.8', '1.2.6.8', '1.2.6.8', '1.2.6.8', '1.2.6.8', '1.2.6.8', '1.2.6.8', '1.2.6.8', '1.2.6.8', '1.2.6.8', '1.2.6.8', '1.2.6.8', '1.2.6.8', '1.2.6.8', '1.2.6.8', '1.2.6.8', '1.2.6.8', '1.2.6.8', '1.2.6.8', '1.2.6.8', '1.2.6.8', '1.2.6.8', '1.2.6.8', '1.2.6.8', '1.2.6.8', '1.2.6.8', '1.2.6.8', '1.2.6.8', '1.2.6.8', '1.2.6.8', '1.2.6.8', '1.2.6.8', '1.2.6.8', '1.2.6.8', '1.2.6.8', '1.2.6.8', '1.2.6.8', '1.2.6.8', '1.2.6.8', '1.2.6.8', '1.2.6.8', '1.2.6.8', '1.2.6.8', '1.2.6.8', '1.2.6.8', '1.2.6.8', '1.2.6.8', '1.2.6.8', '1.2.6.8', '1.2.6.8', '1.2.6.8', '1.2.6.8', '1.2.6.8', '1.2.6.8', '1.2.6.8', '1.2.6.8', '1.2.6.8', '1.2.6.8', '1.2.6.8', '1.2.6.8', '1.2.6.8', '1.2.6.8', '1.2.6.8', '1.2.6.8', '1.2.6.8', '1.2.6.8', '1.2.6.8', '1.2.6.8', '1.2.6.8', '1.2.6.8', '1.2.6.8', '1.2.6.8', '1.2.6.8', '1.2.6.8', '1.2.6.8', '1.2.6.8', '1.2.6.8', '1.2.6.8', '1.2.6.8', '1.2.6.8', '1.2.6.8', '1.2.6.8', '1.2.6.8', '1.2.6.8', '1.2.6.8', '1.2.6.8', '1.2.6.8', '1.2.6.8', '1.2.6.8', '1.2.6.8', '1.2.6.8', '1.2.6.8', '1.2.6.8', '1.2.6.8', '1.2.6.8', '1.2.6.8', '1.2.6.8', '1.2.6.8', '1.2.6.8', '1.2.6.8', '1.2.6.8', '1.2.6.8', '1.2.6.8', '1.2.6.8', '1.2.6.8', '1.2.6.8', '1.2.6.8', '1.2.6.8', '1.2.6.8', '1.2.6.8', '1.2.6.8', '1.2.6.8', '1.2.6.8', '1.2.6.8', '1.2.6.8', '1.2.6.8', '1.2.6.8', '1.2.6.8', '1.2.6.8', '1.2.6.8', '1.2.6.8', '1.2.6.8', '1.2.6.8', '1.2.6.8', '1.2.6.8', '1.2.6.8', '1.2.6.8', '1.2.6.8', '1.2.6.8', '1.2.6.8', '1.2.6.8', '1.2.6.8', '1.2.6.8', '1.2.6.8', '1.2.6.8', '1.2.6.8', '1.2.6.8', '1.2.6.8', '1.2.6.8', '1.2.6.8', '1.2.6.8', '1.2.6.8', '1.2.6.8', '1.2.6.8', '1.2.6.8', '1.2.6.8', '1.2.6.8', '1.2.6.8', '1.2.6.8', '1.2.6.8', '1.2.6.8', '1.2.6.8', '1.2.6.8', '1.2.6.8', '1.2.6.8', '1.2.6.8', '1.2.6.8', '1.2.6.8', '1.2.6.8', '1.2.6.8', '1.2.6.8', '1.2.6.8', '1.2.6.8', '1.2.6.8', '1.2.6.8', '1.2.6.8', '1.2.6.8', '1.2.6.8', '1.2.6.8', '1.2.6.8', '1.2.6.8', '1.2.6.8', '1.2.6.8', '1.2.6.8', '1.2.6.8', '1.2.6.8', '1.2.6.8', '1.2.6.8', '1.2.6.8', '1.2.6.8', '1.2.6.8', '1.2.6.8', '1.2.6.8', '1.2.6.8', '1.2.6.8']\n"
     ]
    }
   ],
   "source": [
    "import pickle\n",
    "\n",
    "def generate_notes(model, network_input, pitchnames, n_vocab):\n",
    "    \"\"\" Generate notes from the neural network based on a sequence of notes \"\"\"\n",
    "    # pick a random sequence from the input as a starting point for the prediction\n",
    "    start = numpy.random.randint(0, len(network_input)-1)\n",
    "\n",
    "    int_to_note = dict((number, note) for number, note in enumerate(pitchnames))\n",
    "\n",
    "    pattern = network_input[start]\n",
    "    prediction_output = []\n",
    "\n",
    "    # generate 500 notes\n",
    "    for note_index in range(500):\n",
    "        prediction_input = numpy.reshape(pattern, (1, len(pattern), 1))\n",
    "        prediction_input = prediction_input / float(n_vocab)\n",
    "\n",
    "        prediction = model.predict(prediction_input, verbose=0)\n",
    "\n",
    "        index = numpy.argmax(prediction)\n",
    "        result = int_to_note[index]\n",
    "        prediction_output.append(result)\n",
    "\n",
    "        pattern = numpy.append(pattern,index)\n",
    "        pattern = pattern[1:len(pattern)]\n",
    "\n",
    "    return prediction_output\n",
    "\n",
    "\"\"\" Generate a piano midi file \"\"\"\n",
    "#load the notes used to train the model\n",
    "with open('data/notes', 'rb') as filepath:\n",
    "    notes = pickle.load(filepath)\n",
    "\n",
    "# Get all pitch names\n",
    "pitchnames = sorted(set(item for item in notes))\n",
    "# Get all pitch names\n",
    "n_vocab = len(set(notes))\n",
    "\n",
    "\n",
    "prediction_output = generate_notes(model, network_input, pitchnames, n_vocab)\n",
    "print(prediction_output)"
   ]
  },
  {
   "cell_type": "code",
   "execution_count": 6,
   "metadata": {},
   "outputs": [
    {
     "name": "stdout",
     "output_type": "stream",
     "text": [
      "donezo\n"
     ]
    }
   ],
   "source": [
    "from music21 import stream\n",
    "\n",
    "def create_midi(prediction_output):\n",
    "    \"\"\" convert the output from the prediction to notes and create a midi file\n",
    "        from the notes \"\"\"\n",
    "    offset = 0\n",
    "    output_notes = []\n",
    "\n",
    "    # create note and chord objects based on the values generated by the model\n",
    "    for pattern in prediction_output:\n",
    "        # pattern is a chord\n",
    "        if ('.' in pattern) or pattern.isdigit():\n",
    "            notes_in_chord = pattern.split('.')\n",
    "            notes = []\n",
    "            for current_note in notes_in_chord:\n",
    "                new_note = note.Note(int(current_note))\n",
    "                new_note.storedInstrument = instrument.Piano()\n",
    "                notes.append(new_note)\n",
    "            new_chord = chord.Chord(notes)\n",
    "            new_chord.offset = offset\n",
    "            output_notes.append(new_chord)\n",
    "        # pattern is a note\n",
    "        else:\n",
    "            new_note = note.Note(pattern)\n",
    "            new_note.offset = offset\n",
    "            new_note.storedInstrument = instrument.Piano()\n",
    "            output_notes.append(new_note)\n",
    "\n",
    "        # increase offset each iteration so that notes do not stack\n",
    "        offset += 0.5\n",
    "\n",
    "    midi_stream = stream.Stream(output_notes)\n",
    "\n",
    "    midi_stream.write('midi', fp='test_outputy.mid')\n",
    "\n",
    "\n",
    "create_midi(prediction_output)\n",
    "print('donezo')"
   ]
  },
  {
   "cell_type": "code",
   "execution_count": null,
   "metadata": {},
   "outputs": [],
   "source": []
  }
 ],
 "metadata": {
  "kernelspec": {
   "display_name": "Python 3",
   "language": "python",
   "name": "python3"
  },
  "language_info": {
   "codemirror_mode": {
    "name": "ipython",
    "version": 3
   },
   "file_extension": ".py",
   "mimetype": "text/x-python",
   "name": "python",
   "nbconvert_exporter": "python",
   "pygments_lexer": "ipython3",
   "version": "3.5.2"
  }
 },
 "nbformat": 4,
 "nbformat_minor": 2
}
