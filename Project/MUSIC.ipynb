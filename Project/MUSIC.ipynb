{
 "cells": [
  {
   "cell_type": "code",
   "execution_count": 1,
   "metadata": {},
   "outputs": [
    {
     "name": "stdout",
     "output_type": "stream",
     "text": [
      "6\n",
      "bowser/fortress.mid\n",
      "bowser/bowser.mid\n",
      "bowser/castle.mid\n",
      "bowser/boss-2-.mid\n",
      "bowser/final-bowser-theme.mid\n",
      "bowser/boss.mid\n",
      "['B-2', 'C3', 'A3', 'B3', 'G#3', 'B-3', 'B-2', 'C3', 'A3', 'B3', 'G#3', 'B-3', 'G#2', 'B-2', 'G#3', 'G3', 'C3', 'B3', 'C#3', 'E3', 'G#2', 'A3', 'B-2', 'C3', 'A3', 'B3', 'G#3', 'B-3', 'B-2', 'C3', 'A3', 'B3', 'G#3', 'B-3', 'G#2', 'B-2', 'G#3', 'G3', 'C3', 'B3', 'C#3', 'E3', 'G#2', 'A3', 'D2', 'D2', 'D2', 'D2', 'D2', 'D2', 'D2', 'D2', '6.11', 'C#4', 'F#2', 'C#4', '6.11', '10.2', 'C#4', 'F#2', 'E-4', '6.11', 'E4', '10.2', 'E4', '6.11', '6.11', 'C#4', 'F#2', 'C#4', '6.11', '10.2', 'C#4', 'F#2', 'E-4', '6.11', 'E4', '10.2', 'E4', '6.11', '6.11', 'C#4', 'F#2', 'C#4', '6.11', '10.2', 'C#4', 'F#2', 'E-4', '6.11', 'E4', '10.2', 'E4', '6.11', '6.11', 'C#4', 'F#2', 'C#4', '6.11', '10.2', 'C#4', 'F#2', 'E-4', '6.11', 'E4', '10.2', 'E4', '6.11', '6.11', 'C#4', 'F#2', 'C#4', '6.11', '10.2', 'C#4', 'F#2', 'E-4', '6.11', 'E4', '10.2', 'E4', '6.11', '6.11', 'C#4', 'F#2', 'C#4', '6.11', '10.2', 'C#4', 'F#2', 'E-4', '6.11', 'E4', '10.2', 'E4', '6.11', '6.11', 'C#4', 'F#2', 'C#4', '6.11', '10.2', 'C#4', 'F#2', 'E-4', '6.11', 'E4', '10.2', 'E4', '6.11', '6.11', 'C#4', 'F#2', 'C#4', '6.11', '10.2', 'C#4', 'F#2', 'E-4', '6.11', 'E4', '10.2', 'E4', '6.11', '6.11', 'C#4', 'F#2', 'C#4', '6.11', '10.2', 'C#4', 'F#2', 'E-4', '6.11', 'E4', '10.2', 'E4', '6.11', '6.11', 'C#4', 'F#2', 'C#4', '6.11', '10.2', 'C#4', 'F#2', 'E-4', '6.11', 'E4', '10.2', 'E4', '6.11', '6.11', 'C#4', 'F#2', 'C#4', '6.11', '10.2', 'C#4', 'F#2', 'E-4', '6.11', 'E4', '10.2', 'E4', '6.11', '6.11', 'C#4', 'F#2', 'C#4', '6.11', '10.2', 'C#4', 'F#2', 'E-4', '6.11', 'E4', '10.2', 'E4', '6.11', '6.11', 'C#4', 'F#2', 'C#4', '6.11', '10.2', 'C#4', 'F#2', 'E-4', '6.11', 'E4', '10.2', 'E4', '6.11', '6.11', 'C#4', 'F#2', 'C#4', '6.11', '10.2', 'C#4', 'F#2', 'E-4', '6.11', 'E4', '10.2', 'E4', '6.11', '6.11', 'C#4', 'F#2', 'C#4', '6.11', '10.2', 'C#4', 'F#2', 'E-4', '6.11', 'E4', '10.2', 'E4', '6.11', '6.11', 'C#4', 'F#2', 'C#4', '6.11', '10.2', 'C#4', 'F#2', 'E-4', '6.11', 'E4', '10.2', 'E4', '6.11', '6.11', 'C#4', 'F#2', 'C#4', '6.11', '10.2', 'C#4', 'F#2', 'E-4', '6.11', 'E4', '10.2', 'E4', '6.11', '6.11', 'C#4', 'F#2', 'C#4', '6.11', '10.2', 'C#4', 'F#2', 'E-4', '6.11', 'E4', '10.2', 'E4', '6.11', '6.11', 'C#4', 'F#2', 'C#4', '6.11', '10.2', 'C#4', 'F#2', 'E-4', '6.11', 'E4', '10.2', 'E4', '6.11', '6.11', 'C#4', 'F#2', 'C#4', '6.11', '10.2', 'C#4', 'F#2', 'E-4', '6.11', 'E4', '10.2', 'E4', '6.11', '6.11', 'C#4', 'F#2', 'C#4', '6.11', '10.2', 'C#4', 'F#2', 'E-4', '6.11', 'E4', '10.2', 'E4', '6.11', '6.11', 'C#4', 'F#2', 'C#4', '6.11', '10.2', 'C#4', 'F#2', 'E-4', '6.11', 'E4', '10.2', 'E4', '6.11', '6.11', 'C#4', 'F#2', 'C#4', '6.11', '10.2', 'C#4', 'F#2', 'E-4', '6.11', 'E4', '10.2', 'E4', '6.11', '6.11', 'C#4', 'F#2', 'C#4', '6.11', '10.2', 'C#4', 'F#2', 'E-4', '6.11', 'E4', '10.2', 'E4', '6.11', '10.2', 'G4', '9.1', 'G4', '8.0', 'G4', '9.1', 'G4', '10.2', 'G4', '11.3', 'G4', '10.2', 'G4', '9.1', 'G4', '10.2', 'G4', '9.1', 'G4', '8.0', 'G4', '9.1', 'G4', '10.2', 'G4', '11.3', 'G4', '10.2', 'G4', '9.1', 'G4', '9.1', 'F#4', '8.0', 'F#4', '9.1', 'F#4', '10.2', 'F#4', '9.1', 'F#4', '10.2', 'F#4', '9.1', 'F#4', '8.0', 'F#4', '9.1', 'F#4', '8.0', 'F#4', '9.1', 'F#4', '10.2', 'F#4', '9.1', 'F#4', '10.2', 'F#4', '9.1', 'F#4', '8.0', 'F#4', '1.5', 'B-4', '2.6', 'B-4', '1.5', 'B-4', '0.4', 'B-4', '1.5', 'B-4', '0.4', 'B-4', '11.3', 'B-4', '0.4', 'B-4', '1.5', 'B-4', '2.6', 'B-4', '1.5', 'B-4', '0.4', 'B-4', '1.5', 'B-4', '0.4', 'B-4', '11.3', 'B-4', '0.4', 'B-4', '10.2', 'G4', '9.1', 'G4', '8.0', 'G4', '9.1', 'G4', '10.2', 'G4', '11.3', 'G4', '10.2', 'G4', '9.1', 'G4', '10.2', 'G4', '9.1', 'G4', '8.0', 'G4', '9.1', 'G4', '10.2', 'G4', '11.3', 'G4', '10.2', 'G4', '9.1', 'G4', '9.1', 'F#4', '8.0', 'F#4', '9.1', 'F#4', '10.2', 'F#4', '9.1', 'F#4', '10.2', 'F#4', '9.1', 'F#4', '8.0', 'F#4', '9.1', 'F#4', '8.0', 'F#4', '9.1', 'F#4', '10.2', 'F#4', '9.1', 'F#4', '10.2', 'F#4', '9.1', 'F#4', '8.0', 'F#4', '1.5', 'B-4', '2.6', 'B-4', '1.5', 'B-4', '0.4', 'B-4', '1.5', 'B-4', '0.4', 'B-4', '11.3', 'B-4', '0.4', 'B-4', '1.5', 'B-4', '2.6', 'B-4', '1.5', 'B-4', '0.4', 'B-4', '1.5', 'B-4', '0.4', 'B-4', '11.3', 'B-4', '0.4', 'B-4', '10.2', 'G4', '9.1', 'G4', '8.0', 'G4', '9.1', 'G4', '10.2', 'G4', '11.3', 'G4', '10.2', 'G4', '9.1', 'G4', '10.2', 'G4', '9.1', 'G4', '8.0', 'G4', '9.1', 'G4', '10.2', 'G4', '11.3', 'G4', '10.2', 'G4', '9.1', 'G4', '9.1', 'F#4', '8.0', 'F#4', '9.1', 'F#4', '10.2', 'F#4', '9.1', 'F#4', '10.2', 'F#4', '9.1', 'F#4', '8.0', 'F#4', '9.1', 'F#4', '8.0', 'F#4', '9.1', 'F#4', '10.2', 'F#4', '9.1', 'F#4', '10.2', 'F#4', '9.1', 'F#4', '8.0', 'F#4', '1.5', 'B-4', '2.6', 'B-4', '1.5', 'B-4', '0.4', 'B-4', '1.5', 'B-4', '0.4', 'B-4', '11.3', 'B-4', '0.4', 'B-4', '1.5', 'B-4', '2.6', 'B-4', '1.5', 'B-4', '0.4', 'B-4', '1.5', 'B-4', '0.4', 'B-4', '11.3', 'B-4', '0.4', 'B-4', '10.2', 'G4', '9.1', 'G4', '8.0', 'G4', '9.1', 'G4', '10.2', 'G4', '11.3', 'G4', '10.2', 'G4', '9.1', 'G4', '10.2', 'G4', '9.1', 'G4', '8.0', 'G4', '9.1', 'G4', '10.2', 'G4', '11.3', 'G4', '10.2', 'G4', '9.1', 'G4', '9.1', 'F#4', '8.0', 'F#4', '9.1', 'F#4', '10.2', 'F#4', '9.1', 'F#4', '10.2', 'F#4', '9.1', 'F#4', '8.0', 'F#4', '9.1', 'F#4', '8.0', 'F#4', '9.1', 'F#4', '10.2', 'F#4', '9.1', 'F#4', '10.2', 'F#4', '9.1', 'F#4', '8.0', 'F#4', '1.5', 'B-4', '2.6', 'B-4', '1.5', 'B-4', '0.4', 'B-4', '1.5', 'B-4', '0.4', 'B-4', '11.3', 'B-4', '0.4', 'B-4', '1.5', 'B-4', '2.6', 'B-4', '1.5', 'B-4', '0.4', 'B-4', '1.5', 'B-4', '0.4', 'B-4', '11.3', 'B-4', 'A4', 'A4', 'A4', 'A4', 'A4', 'A4', 'A4', 'A4', 'A4', 'A4', 'G#4', 'G#4', 'G#4', 'G#4', 'G#4', 'G#4', 'G#4', 'G#4', 'G#4', 'G#4', 'B4', 'B4', 'B4', 'B4', 'B4', 'B4', 'B4', 'B4', 'B4', 'B4', 'B-4', 'B-4', 'B-4', 'B-4', 'B-4', 'B-4', 'B-4', 'B-4', 'B-4', 'B-4', 'A4', 'A4', 'A4', 'A4', 'A4', 'A4', 'A4', 'A4', 'A4', 'A4', 'G#4', 'G#4', 'G#4', 'G#4', 'G#4', 'G#4', 'G#4', 'G#4', 'G#4', 'G#4', 'B4', 'B4', 'B4', 'B4', 'B4', 'B4', 'B4', 'B4', 'B4', 'B4', 'B-4', 'B-4', 'B-4', 'B-4', 'B-4', 'B-4', 'B-4', 'B-4', 'B-4', 'B-4', 'A4', 'A4', 'A4', 'A4', 'A4', 'A4', 'A4', 'A4', 'A4', 'A4', 'G#4', 'G#4', 'G#4', 'G#4', 'G#4', 'G#4', 'G#4', 'G#4', 'G#4', 'G#4', 'B4', 'B4', 'B4', 'B4', 'B4', 'B4', 'B4', 'B4', 'B4', 'B4', 'B-4', 'B-4', 'B-4', 'B-4', 'B-4', 'B-4', 'B-4', 'B-4', 'B-4', 'B-4', 'A4', 'A4', 'A4', 'A4', 'A4', 'A4', 'A4', 'A4', 'A4', 'A4', 'G#4', 'G#4', 'G#4', 'G#4', 'G#4', 'G#4', 'G#4', 'G#4', 'G#4', 'G#4', 'B4', 'B4', 'B4', 'B4', 'B4', 'B4', 'B4', 'B4', 'B4', 'B4', 'B-4', 'B-4', 'B-4', 'B-4', 'B-4', 'B-4', 'B-4', 'B-4', 'B-4', 'B-4', '2', 'A4', '2', '5.9', '4.8', '2', 'A4', '2', '5.9', '4.8', '11', '2', 'A4', '2', '5.9', '4.8', '4.8', '2', 'A4', 'D5', 'A5', 'G#5', 'A4', 'D5', 'G5', 'F5', 'A4', 'D5', 'F5', 'E5', 'G4', 'C#5', 'E5', 'D5', 'F4', 'A4', 'D5', '4', 'C#5', 'E4', 'G4', 'B-4', 'A4', '5', 'F4', 'A4', 'D5', 'F5', 'A4', 'D5', 'F5', '7', 'B-4', 'G4', 'B-4', 'C#5', 'E5', 'B-4', 'C#5', 'E5', 'F5', '9', 'A5', 'D6', 'A5', 'F5', 'D6', 'A5', 'F5', '7', 'E5', 'G5', 'C#6', 'G5', 'E5', 'C#6', 'G5', 'E5', '5', 'D5', 'F5', 'A5', 'F5', 'D5', 'A5', 'F5', 'D5', '1.4', '7.9.1', '10.2.5', '8.9', '7.9.1', 'D3', 'D2', '2', '1', '2', '3', '2', '1', '8', '9', '5', '4', '5', '7', '5', '4', '1', '2', 'A3', 'G#3', 'A3', 'B-3', 'A3', 'G#3', 'E3', 'F3', 'D3', 'C#3', 'D3', 'E-3', 'D3', 'C#3', 'G#2', '9', '2', '2.5', '4', '1.4', '4.7', '2.5', '5', '5.10', '7.9', '7', '1.4', '9', 'D5', 'A4', 'A4', 'D5', 'A5', 'G#5', 'A4', 'D5', 'G5', 'F5', 'A4', 'D5', 'F5', 'E5', 'G4', 'C#5', 'E5', 'D5', 'F4', 'A4', 'D5', 'C#5', 'E4', 'G4', 'B-4', 'A4', 'F4', 'A4', 'D5', 'F5', 'A4', 'D5', 'F5', 'E5', 'G4', 'B-4', 'C#5', 'E5', 'C#5', 'E5', 'G5', 'F5', 'A5', 'D6', 'A5', 'F5', 'D6', 'A5', 'F5', 'E5', 'G5', 'C#6', 'G5', 'E5', 'C#6', 'G5', 'E5', '2', 'F4', 'A4', 'D5', 'A4', 'F5', 'A4', 'D5', 'A4', '3', 'E-5', 'G4', '2', 'D5', 'A4', 'E-5', '1', 'A4', '8', 'D5', 'A4', '9', 'E4', 'G4', 'C#5', 'G4', 'E4', 'G4', 'C#5', 'G4', 'E4', 'G4', 'C#5', 'G4', 'E4', 'G4', 'C#5', 'G4', 'D4', '8', 'G#3', 'G#4', 'B4', 'G#4', 'D5', 'G#4', 'B4', 'G#4', '9', 'D4', 'G#4', 'B4', '8', 'G#4', '7', '1.7', 'G4', '1', 'B-4', 'G4', 'F4', '2', 'A4', 'D5', 'A4', 'F5', 'A4', 'D5', 'A4', 'F4', 'A4', 'D5', 'A4', 'F5', 'D5', 'F5', 'A5', '2', 'D4', '2', 'D3', 'D5', 'F5', 'D5', 'A5', 'D5', 'F5', 'D5', 'A5', '3', 'D5', '2', 'F5', 'D3', 'A5', '1', 'D5', 'F5', '8', 'D5', 'A4', '4.9', 'C#5', 'E5', 'C#5', 'G5', 'C#5', 'E5', 'C#5', 'A4', 'C#5', 'E5', 'C#5', 'G5', 'C#5', 'E5', 'C#5', '5.8', 'B4', 'G#2', 'D5', 'F5', 'D5', 'G#5', 'D5', 'F5', 'D5', '9', 'B4', 'D5', 'F5', 'G#2', 'D5', '4.7', 'G5', 'G2', 'B-4', '1', 'C#5', 'B-4', 'A4', '2', '5', 'D5', 'F5', 'D5', 'A5', 'A4', 'D5', 'F5', '2.5.9', '2.5.9', '2.5.9', '2.5.9', '2.5.9', '2.5.9', '2.5.9', '4.7.10', '4.7.10', '7.10.1', '7.10.1', '9.2', '9.2', '2.5.9', '2.5.9', '4.7.10', '4.7.10', '7.10.1', '7.10.1', '2.5.9', '2.5.9', '2.5.9', '2.5', '2.5', '2.5.9', '2.5.9', '4.7.10', '4.7.10', '1.4.7', '1.4.7', '7.10.1', '7.10.1', '4.7.10', '4.7.10', '2', 'A4', 'D5', 'A5', 'G#5', 'A4', 'D5', 'G5', 'F5', 'A4', 'D5', 'F5', 'E5', 'G4', 'C#5', 'E5', 'D5', 'F4', 'A4', 'D5', '4', 'C#5', 'E4', 'G4', 'B-4', 'A4', '5', 'F4', 'A4', 'D5', 'F5', 'A4', 'D5', 'F5', '7', 'B-4', 'G4', 'B-4', 'C#5', 'E5', 'B-4', 'C#5', 'E5', '9', 'F5', 'A5', 'D6', 'A5', 'F5', 'D6', 'A5', 'F5', '7', 'E5', 'G5', 'C#6', 'G5', 'E5', 'C#6', 'G5', 'E5', '5', 'D5', 'F5', 'A5', 'F5', 'D5', 'A5', 'F5', 'D5', '1.4', '7.9.1', '10.2.5', '8.9', '7.9.1', 'D3', 'D2', '2', '1', '2', '3', '2', '1', '8', '9', '5', '4', '5', '7', '5', '4', '1', '2', 'A3', 'G#3', 'A3', 'B-3', 'A3', 'G#3', 'E3', 'F3', 'D3', 'C#3', 'D3', 'E-3', 'D3', 'C#3', 'G#2', '2', '9', '2.5', '1.4', '4', '4.7', '5', '2.5', '5.10', '7.9', '7', '1.4', '9', 'D5', 'A4', 'A4', 'D5', 'A5', 'G#5', 'A4', 'D5', 'G5', 'F5', 'A4', 'D5', 'F5', 'E5', 'G4', 'C#5', 'E5', 'D5', 'F4', 'A4', 'D5', 'C#5', 'E4', 'G4', 'B-4', 'A4', 'F4', 'A4', 'D5', 'F5', 'A4', 'D5', 'F5', 'E5', 'G4', 'B-4', 'C#5', 'E5', 'C#5', 'E5', 'G5', 'F5', 'A5', 'D6', 'A5', 'F5', 'D6', 'A5', 'F5', 'E5', 'G5', 'C#6', 'G5', 'E5', 'C#6', 'G5', 'E5', '2', 'F4', 'A4', 'D5', 'A4', 'F5', 'A4', 'D5', 'A4', '3', 'E-5', 'G4', '2', 'D5', 'A4', '1', 'E-5', 'A4', '8', 'D5', 'A4', 'E4', '9', 'G4', 'C#5', 'G4', 'E4', 'G4', 'C#5', 'G4', 'E4', 'G4', 'C#5', 'G4', 'E4', 'G4', 'C#5', 'G4', '8', 'G#3', 'D4', 'G#4', 'B4', 'G#4', 'D5', 'G#4', 'B4', 'G#4', 'D4', '9', 'G#4', 'B4', '8', 'G#4', '7', '1.7', 'G4', '1', 'B-4', 'G4', 'F4', '2', 'A4', 'D5', 'A4', 'F5', 'A4', 'D5', 'A4', 'F4', 'A4', 'D5', 'A4', 'F5', 'D5', 'F5', 'A5', 'D3', '2', 'D4', '2', 'D5', 'F5', 'D5', 'A5', 'D5', 'F5', 'D5', 'A5', '3', 'D5', 'D3', '2', 'F5', '1', 'A5', 'D5', '8', 'F5', 'D5', '4.9', 'A4', 'C#5', 'E5', 'C#5', 'G5', 'C#5', 'E5', 'C#5', 'A4', 'C#5', 'E5', 'C#5', 'G5', 'C#5', 'E5', 'C#5', '5.8', 'G#2', 'B4', 'D5', 'F5', 'D5', 'G#5', 'D5', 'F5', 'D5', 'B4', '9', 'D5', 'F5', 'G#2', 'D5', 'G2', '4.7', 'G5', 'B-4', '1', 'C#5', 'B-4', '2', '5', 'A4', 'D5', 'F5', 'D5', 'A5', 'A4', 'D5', 'F5', '2.5.9', '2.5.9', '2.5.9', '2.5.9', '2.5.9', '2.5.9', '2.5.9', '4.7.10', '4.7.10', '7.10.1', '7.10.1', '9.2', '9.2', '2.5.9', '2.5.9', '4.7.10', '4.7.10', '7.10.1', '7.10.1', '2.5.9', '2.5.9', '2.5.9', '2.5', '2.5', '2.5.9', '2.5.9', '4.7.10', '4.7.10', '1.4.7', '1.4.7', '7.10.1', '7.10.1', '4.7.10', '4.7.10', '2', 'A4', 'D5', 'A5', 'G#5', 'A4', 'D5', 'G5', 'F5', 'A4', 'D5', 'F5', 'E5', 'G4', 'C#5', 'E5', 'D5', 'F4', 'A4', 'D5', '4', 'C#5', 'E4', 'G4', 'B-4', '5', 'A4', 'F4', 'A4', 'D5', 'F5', 'A4', 'D5', 'F5', '9.2', 'F#3', '3.9', '3.9', '9.2', 'F#3', '3.9', '3.9', '9.2', 'F#3', '3.9', '9.2', 'F#3', '3.9', '3.9', '9.2', 'F#3', '3.9', '3.9', '9.2', 'F#3', '3.9', '2.8', 'F3', '3.8', '3.8', '2.8', 'F3', '3.8', '3.8', '2.8', 'F3', '3.8', '2.8', 'F3', '3.8', '3.8', '2.8', 'F3', '3.8', '3.8', '2.8', 'F3', '3.8', '11.4', 'G#3', '5.11', '5.11', '11.4', 'G#3', '5.11', '5.11', '11.4', 'G#3', '5.11', '11.4', 'G#3', '5.11', '5.11', '11.4', 'G#3', '5.11', '5.11', '11.4', 'G#3', '5.11', '4.10', 'G3', '5.10', '5.10', '4.10', 'G3', '5.10', '5.10', '4.10', 'G3', '5.10', '4.10', 'G3', '5.10', '5.10', '4.10', 'G3', '5.10', '5.10', '4.10', 'G3', '5.10', '9.2', 'F#3', '3.9', '3.9', '9.2', 'F#3', '3.9', '3.9', '9.2', 'F#3', '3.9', '9.2', 'F#3', '3.9', '3.9', '9.2', 'F#3', '3.9', '3.9', '9.2', 'F#3', '3.9', '2.8', 'F3', '3.8', '3.8', '2.8', 'F3', '3.8', '3.8', '2.8', 'F3', '3.8', '2.8', 'F3', '3.8', '3.8', '2.8', 'F3', '3.8', '3.8', '2.8', 'F3', '3.8', '11.4', 'G#3', '5.11', '5.11', '11.4', 'G#3', '5.11', '5.11', '11.4', 'G#3', '5.11', '11.4', 'G#3', '5.11', '5.11', '11.4', 'G#3', '5.11', '5.11', '11.4', 'G#3', '5.11', '4.10', 'G3', '5.10', '5.10', '4.10', 'G3', '5.10', '5.10', '4.10', 'G3', '5.10', '4.10', 'G3', '5.10', '5.10', '4.10', 'G3', '5.10', '5.10', '4.10', 'G3', '5.10', '9.2', 'F#3', '3.9', '3.9', '9.2', 'F#3', '3.9', '3.9', '9.2', 'F#3', '3.9', '9.2', 'F#3', '3.9', '3.9', '9.2', 'F#3', '3.9', '3.9', '9.2', 'F#3', '3.9', '2.8', 'F3', '3.8', '3.8', '2.8', 'F3', '3.8', '3.8', '2.8', 'F3', '3.8', '2.8', 'F3', '3.8', '3.8', '2.8', 'F3', '3.8', '3.8', '2.8', 'F3', '3.8', '11.4', 'G#3', '5.11', '5.11', '11.4', 'G#3', '5.11', '5.11', '11.4', 'G#3', '5.11', '11.4', 'G#3', '5.11', '5.11', '11.4', 'G#3', '5.11', '5.11', '11.4', 'G#3', '5.11', '4.10', 'G3', '5.10', '5.10', '4.10', 'G3', '5.10', '5.10', '4.10', 'G3', '5.10', '4.10', 'G3', '5.10', '5.10', '4.10', 'G3', '5.10', '5.10', '4.10', 'G3', '5.10', '9.2', 'F#3', '3.9', '3.9', '9.2', 'F#3', '3.9', '3.9', '9.2', 'F#3', '3.9', '9.2', 'F#3', '3.9', '3.9', '9.2', 'F#3', '3.9', '3.9', '9.2', 'F#3', '3.9', '2.8', 'F3', '3.8', '3.8', '2.8', 'F3', '3.8', '3.8', '2.8', 'F3', '3.8', '2.8', 'F3', '3.8', '3.8', '2.8', 'F3', '3.8', '3.8', '2.8', 'F3', '3.8', '11.4', 'G#3', '5.11', '5.11', '11.4', 'G#3', '5.11', '5.11', '11.4', 'G#3', '5.11', '11.4', 'G#3', '5.11', '5.11', '11.4', 'G#3', '5.11', '5.11', '11.4', 'G#3', '5.11', '4.10', 'G3', '5.10', '5.10', '4.10', 'G3', '5.10', '5.10', '4.10', 'G3', '5.10', '4.10', 'G3', '5.10', '5.10', '4.10', 'G3', '5.10', '5.10', '4.10']\n"
     ]
    }
   ],
   "source": [
    "from music21 import converter\n",
    "from music21 import instrument\n",
    "from music21 import chord\n",
    "from music21 import note\n",
    "import glob\n",
    "\n",
    "def get_notes(glob_path):\n",
    "    notes = []\n",
    "    \n",
    "    print(len(glob.glob(glob_path)))\n",
    "    for input_file in glob.glob(glob_path):\n",
    "        print(input_file)\n",
    "        midi = converter.parse(input_file)\n",
    "\n",
    "        parts = instrument.partitionByInstrument(midi)\n",
    "        if parts:\n",
    "            notes_to_parse = parts.parts[0].recurse()\n",
    "        else:\n",
    "            notes_to_parse = midi.flat.notes\n",
    "\n",
    "        for element in notes_to_parse:\n",
    "            if isinstance(element, note.Note):\n",
    "                notes.append(str(element.pitch))\n",
    "            elif isinstance(element, chord.Chord):\n",
    "                notes.append('.'.join(str(n) for n in element.normalOrder))\n",
    "\n",
    "    return notes\n",
    "\n",
    "\n",
    "\n",
    "\n",
    "notes = get_notes('bowser/*.mid')\n",
    "print(notes)\n",
    "            \n",
    "# get amount of pitch names\n",
    "n_vocab = len(set(notes))"
   ]
  },
  {
   "cell_type": "code",
   "execution_count": 2,
   "metadata": {},
   "outputs": [
    {
     "name": "stderr",
     "output_type": "stream",
     "text": [
      "/usr/local/lib/python3.5/dist-packages/h5py/__init__.py:36: FutureWarning: Conversion of the second argument of issubdtype from `float` to `np.floating` is deprecated. In future, it will be treated as `np.float64 == np.dtype(float).type`.\n",
      "  from ._conv import register_converters as _register_converters\n",
      "Using TensorFlow backend.\n"
     ]
    }
   ],
   "source": [
    "import numpy\n",
    "from keras.utils import np_utils\n",
    "\n",
    "def prepare_sequences(notes, n_vocab):\n",
    "    \"\"\" Prepare the sequences used by the Neural Network \"\"\"\n",
    "    sequence_length = 100\n",
    "\n",
    "    # get all pitch names\n",
    "    pitchnames = sorted(set(item for item in notes))\n",
    "\n",
    "     # create a dictionary to map pitches to integers\n",
    "    note_to_int = dict((note, number) for number, note in enumerate(pitchnames))\n",
    "\n",
    "    network_input = []\n",
    "    network_output = []\n",
    "\n",
    "    # create input sequences and the corresponding outputs\n",
    "    for i in range(0, len(notes) - sequence_length, 1):\n",
    "        sequence_in = notes[i:i + sequence_length]\n",
    "        sequence_out = notes[i + sequence_length]\n",
    "        network_input.append([note_to_int[char] for char in sequence_in])\n",
    "        network_output.append(note_to_int[sequence_out])\n",
    "\n",
    "    n_patterns = len(network_input)\n",
    "\n",
    "    # reshape the input into a format compatible with LSTM layers\n",
    "    network_input = numpy.reshape(network_input, (n_patterns, sequence_length, 1))\n",
    "    # normalize input\n",
    "    network_input = network_input / float(n_vocab)\n",
    "\n",
    "    network_output = np_utils.to_categorical(network_output)\n",
    "\n",
    "    return (network_input, network_output)\n",
    "\n",
    "\n",
    "\n",
    "network_input, network_output = prepare_sequences(notes, n_vocab)"
   ]
  },
  {
   "cell_type": "code",
   "execution_count": 3,
   "metadata": {},
   "outputs": [],
   "source": [
    "from keras.models import Sequential\n",
    "from keras.layers import Dense\n",
    "from keras.layers import Dropout\n",
    "from keras.layers import LSTM\n",
    "from keras.layers import Activation\n",
    "\n",
    "def create_network(network_input, n_vocab):\n",
    "    \"\"\" create the structure of the neural network \"\"\"\n",
    "    model = Sequential()\n",
    "    model.add(LSTM(\n",
    "        256,\n",
    "        input_shape=(network_input.shape[1], network_input.shape[2]),\n",
    "        return_sequences=True\n",
    "    ))\n",
    "    model.add(Dropout(0.3))\n",
    "    model.add(LSTM(256, return_sequences=True))\n",
    "    model.add(Dropout(0.3))\n",
    "    model.add(LSTM(256))\n",
    "    model.add(Dense(128))\n",
    "    model.add(Dropout(0.3))\n",
    "    model.add(Dense(n_vocab))\n",
    "    model.add(Activation('softmax'))\n",
    "    model.compile(loss='categorical_crossentropy', optimizer='rmsprop')\n",
    "\n",
    "    return model\n",
    "\n",
    "\n",
    "\n",
    "model = create_network(network_input, n_vocab)"
   ]
  },
  {
   "cell_type": "code",
   "execution_count": 4,
   "metadata": {},
   "outputs": [
    {
     "name": "stdout",
     "output_type": "stream",
     "text": [
      "Epoch 1/4\n",
      "1955/1955 [==============================] - 398s 203ms/step - loss: 4.0359\n",
      "Epoch 2/4\n",
      "1955/1955 [==============================] - 349s 179ms/step - loss: 3.8645\n",
      "Epoch 3/4\n",
      "1955/1955 [==============================] - 323s 165ms/step - loss: 3.8309\n",
      "Epoch 4/4\n",
      "1955/1955 [==============================] - 332s 170ms/step - loss: 3.8434\n"
     ]
    }
   ],
   "source": [
    "from keras.callbacks import ModelCheckpoint\n",
    "import h5py\n",
    "\n",
    "def train(model, network_input, network_output):\n",
    "    \"\"\" train the neural network \"\"\"\n",
    "    filepath = \"weights-improvement-{epoch:02d}-{loss:.4f}-bigger.hdf5\"\n",
    "    checkpoint = ModelCheckpoint(\n",
    "        filepath,\n",
    "        monitor='loss',\n",
    "        verbose=0,\n",
    "        save_best_only=True,\n",
    "        mode='min'\n",
    "    )\n",
    "    callbacks_list = [checkpoint]\n",
    "\n",
    "    model.fit(network_input, network_output, epochs=4, batch_size=6, callbacks=callbacks_list)\n",
    "\n",
    "\n",
    "    \n",
    "train(model, network_input, network_output)"
   ]
  },
  {
   "cell_type": "code",
   "execution_count": 5,
   "metadata": {},
   "outputs": [
    {
     "ename": "NameError",
     "evalue": "name 'pitchnames' is not defined",
     "output_type": "error",
     "traceback": [
      "\u001b[0;31m---------------------------------------------------------------------------\u001b[0m",
      "\u001b[0;31mNameError\u001b[0m                                 Traceback (most recent call last)",
      "\u001b[0;32m<ipython-input-5-84adff30d99e>\u001b[0m in \u001b[0;36m<module>\u001b[0;34m()\u001b[0m\n\u001b[1;32m     25\u001b[0m     \u001b[0;32mreturn\u001b[0m \u001b[0mprediction_output\u001b[0m\u001b[0;34m\u001b[0m\u001b[0m\n\u001b[1;32m     26\u001b[0m \u001b[0;34m\u001b[0m\u001b[0m\n\u001b[0;32m---> 27\u001b[0;31m \u001b[0mprediction_output\u001b[0m \u001b[0;34m=\u001b[0m \u001b[0mgenerate_notes\u001b[0m\u001b[0;34m(\u001b[0m\u001b[0mmodel\u001b[0m\u001b[0;34m,\u001b[0m \u001b[0mnetwork_input\u001b[0m\u001b[0;34m,\u001b[0m \u001b[0mpitchnames\u001b[0m\u001b[0;34m,\u001b[0m \u001b[0mn_vocab\u001b[0m\u001b[0;34m)\u001b[0m\u001b[0;34m\u001b[0m\u001b[0m\n\u001b[0m",
      "\u001b[0;31mNameError\u001b[0m: name 'pitchnames' is not defined"
     ]
    }
   ],
   "source": [
    "def generate_notes(model, network_input, pitchnames, n_vocab):\n",
    "    \"\"\" Generate notes from the neural network based on a sequence of notes \"\"\"\n",
    "    # pick a random sequence from the input as a starting point for the prediction\n",
    "    start = numpy.random.randint(0, len(network_input)-1)\n",
    "\n",
    "    int_to_note = dict((number, note) for number, note in enumerate(pitchnames))\n",
    "\n",
    "    pattern = network_input[start]\n",
    "    prediction_output = []\n",
    "\n",
    "    # generate 500 notes\n",
    "    for note_index in range(500):\n",
    "        prediction_input = numpy.reshape(pattern, (1, len(pattern), 1))\n",
    "        prediction_input = prediction_input / float(n_vocab)\n",
    "\n",
    "        prediction = model.predict(prediction_input, verbose=0)\n",
    "\n",
    "        index = numpy.argmax(prediction)\n",
    "        result = int_to_note[index]\n",
    "        prediction_output.append(result)\n",
    "\n",
    "        pattern.append(index)\n",
    "        pattern = pattern[1:len(pattern)]\n",
    "\n",
    "    return prediction_output\n",
    "\n",
    "prediction_output = generate_notes(model, network_input, pitchnames, n_vocab)"
   ]
  },
  {
   "cell_type": "code",
   "execution_count": null,
   "metadata": {},
   "outputs": [],
   "source": []
  }
 ],
 "metadata": {
  "kernelspec": {
   "display_name": "Python 3",
   "language": "python",
   "name": "python3"
  },
  "language_info": {
   "codemirror_mode": {
    "name": "ipython",
    "version": 3
   },
   "file_extension": ".py",
   "mimetype": "text/x-python",
   "name": "python",
   "nbconvert_exporter": "python",
   "pygments_lexer": "ipython3",
   "version": "3.5.2"
  }
 },
 "nbformat": 4,
 "nbformat_minor": 2
}
